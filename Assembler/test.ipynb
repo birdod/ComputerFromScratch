{
 "cells": [
  {
   "cell_type": "code",
   "execution_count": 1,
   "metadata": {},
   "outputs": [],
   "source": [
    "path = \"./max/Max.asm\""
   ]
  },
  {
   "cell_type": "code",
   "execution_count": 2,
   "metadata": {},
   "outputs": [],
   "source": [
    "with open(path, 'r') as file:\n",
    "    data = file.read()"
   ]
  },
  {
   "cell_type": "code",
   "execution_count": 3,
   "metadata": {},
   "outputs": [],
   "source": [
    "def pre(data):\n",
    "    lines = data.split('\\n')\n",
    "    for j, line in enumerate(lines):\n",
    "        lines[j] = line.strip()\n",
    "        for i, element in enumerate(line):\n",
    "            if element=='/':\n",
    "                if i==0:\n",
    "                    lines[j] = ''\n",
    "                    break\n",
    "                else:\n",
    "                    lines[j] = line[:i].replace(' ', '')\n",
    "                    break\n",
    "    ret = []\n",
    "    for i in lines:\n",
    "        if i!='':\n",
    "            ret.append(i)\n",
    "    \n",
    "    return ret\n",
    "\n",
    "def symbol(data):\n",
    "    st = {'SP':'0','LCL':'1','ARG':'2','THIS':'3','THAT':'4','SCREEN':'16384','KBD':'24576'}\n",
    "    for i in range(16):\n",
    "        st['R'+str(i)] = str(i)\n",
    "    cnt = 0\n",
    "    for i, line in enumerate(data):\n",
    "        if line[0]=='(':\n",
    "            st[line[1:-1]] = str(cnt)\n",
    "        else:\n",
    "            cnt += 1\n",
    "    cnt = 16\n",
    "    for i, line in enumerate(data):\n",
    "        if line[0]=='@':\n",
    "            if line[1:] in st.keys():\n",
    "                data[i]=data[i].replace(line[1:], st[line[1:]])\n",
    "            else:\n",
    "                st[line[1:]] = cnt\n",
    "                cnt += 1\n",
    "                data[i]=data[i].replace(line[1:], st[line[1:]])\n",
    "                \n",
    "    return data\n",
    "\n",
    "def clear(data):\n",
    "    data = pre(data)\n",
    "    data = symbol(data)\n",
    "    return data"
   ]
  },
  {
   "cell_type": "code",
   "execution_count": 4,
   "metadata": {},
   "outputs": [
    {
     "data": {
      "text/plain": [
       "['@0',\n",
       " 'D=M',\n",
       " '@1',\n",
       " 'D=D-M',\n",
       " '@10',\n",
       " 'D;JGT',\n",
       " '@1',\n",
       " 'D=M',\n",
       " '@12',\n",
       " '0;JMP',\n",
       " '(OUTPUT_FIRST)',\n",
       " '@0',\n",
       " 'D=M',\n",
       " '(OUTPUT_D)',\n",
       " '@2',\n",
       " 'M=D',\n",
       " '(INFINITE_LOOP)',\n",
       " '@14',\n",
       " '0;JMP']"
      ]
     },
     "execution_count": 4,
     "metadata": {},
     "output_type": "execute_result"
    }
   ],
   "source": [
    "clear(data)"
   ]
  },
  {
   "cell_type": "code",
   "execution_count": null,
   "metadata": {},
   "outputs": [],
   "source": []
  }
 ],
 "metadata": {
  "kernelspec": {
   "display_name": "Python 3.9.12 ('base')",
   "language": "python",
   "name": "python3"
  },
  "language_info": {
   "codemirror_mode": {
    "name": "ipython",
    "version": 3
   },
   "file_extension": ".py",
   "mimetype": "text/x-python",
   "name": "python",
   "nbconvert_exporter": "python",
   "pygments_lexer": "ipython3",
   "version": "3.9.12"
  },
  "orig_nbformat": 4,
  "vscode": {
   "interpreter": {
    "hash": "d9589594593eee32fcaf30d546d61ee1a50ae3c9bdb40401aea82b779ac58bf7"
   }
  }
 },
 "nbformat": 4,
 "nbformat_minor": 2
}
